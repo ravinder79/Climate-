{
 "cells": [
  {
   "cell_type": "code",
   "execution_count": 1,
   "metadata": {},
   "outputs": [],
   "source": [
    "import pandas as pd\n",
    "import numpy as np\n",
    "import requests"
   ]
  },
  {
   "cell_type": "code",
   "execution_count": 19,
   "metadata": {},
   "outputs": [],
   "source": [
    "url = 'https://www.ncei.noaa.gov/access/services/data/v1?dataset=global-summary-of-the-year&dataTypes=DP01,DP05,DP10,DSND,DSNW,DT00,DT32,DX32,DX70,DX90,SNOW,PRCP&stations=ASN00084027&startDate=1952-01-01&endDate=1970-12-31&includeAttributes=true&format=json'"
   ]
  },
  {
   "cell_type": "code",
   "execution_count": 20,
   "metadata": {},
   "outputs": [],
   "source": [
    "response = requests.get(url)"
   ]
  },
  {
   "cell_type": "code",
   "execution_count": 22,
   "metadata": {},
   "outputs": [
    {
     "data": {
      "text/plain": [
       "[{'DATE': '1952',\n",
       "  'STATION': 'ASN00084027',\n",
       "  'DP01_ATTRIBUTES': 'a',\n",
       "  'PRCP_ATTRIBUTES': ' ,a',\n",
       "  'PRCP': '   1372.2',\n",
       "  'DP10': '        89',\n",
       "  'DP10_ATTRIBUTES': 'a',\n",
       "  'DP01': '       176'},\n",
       " {'DATE': '1953',\n",
       "  'STATION': 'ASN00084027',\n",
       "  'DP01_ATTRIBUTES': 'a',\n",
       "  'PRCP_ATTRIBUTES': ' ,a',\n",
       "  'PRCP': '    862.2',\n",
       "  'DP10': '        72',\n",
       "  'DP10_ATTRIBUTES': 'a',\n",
       "  'DP01': '       143'},\n",
       " {'DATE': '1954',\n",
       "  'STATION': 'ASN00084027',\n",
       "  'DP01_ATTRIBUTES': 'a',\n",
       "  'PRCP_ATTRIBUTES': ' ,a',\n",
       "  'PRCP': '    896.4',\n",
       "  'DP10': '        63',\n",
       "  'DP10_ATTRIBUTES': 'a',\n",
       "  'DP01': '       114'},\n",
       " {'DATE': '1955',\n",
       "  'STATION': 'ASN00084027',\n",
       "  'DP01_ATTRIBUTES': 'a',\n",
       "  'PRCP_ATTRIBUTES': ' ,a',\n",
       "  'PRCP': '    875.7',\n",
       "  'DP10': '        83',\n",
       "  'DP10_ATTRIBUTES': 'a',\n",
       "  'DP01': '       139'},\n",
       " {'DATE': '1956',\n",
       "  'STATION': 'ASN00084027',\n",
       "  'DP01_ATTRIBUTES': 'a',\n",
       "  'PRCP_ATTRIBUTES': ' ,a',\n",
       "  'PRCP': '   1331.8',\n",
       "  'DP10': '       102',\n",
       "  'DP10_ATTRIBUTES': 'a',\n",
       "  'DP01': '       186'},\n",
       " {'DATE': '1960',\n",
       "  'STATION': 'ASN00084027',\n",
       "  'PRCP_ATTRIBUTES': ' ,a',\n",
       "  'PRCP': '   1147.9'},\n",
       " {'DATE': '1961',\n",
       "  'STATION': 'ASN00084027',\n",
       "  'PRCP_ATTRIBUTES': ' ,a',\n",
       "  'PRCP': '   1218.4'},\n",
       " {'DATE': '1962',\n",
       "  'STATION': 'ASN00084027',\n",
       "  'PRCP_ATTRIBUTES': ' ,a',\n",
       "  'PRCP': '    872.6'},\n",
       " {'DATE': '1963',\n",
       "  'STATION': 'ASN00084027',\n",
       "  'PRCP_ATTRIBUTES': ' ,a',\n",
       "  'PRCP': '   1173.3'},\n",
       " {'DATE': '1964',\n",
       "  'STATION': 'ASN00084027',\n",
       "  'PRCP_ATTRIBUTES': ' ,a',\n",
       "  'PRCP': '    888.4'},\n",
       " {'DATE': '1966',\n",
       "  'STATION': 'ASN00084027',\n",
       "  'PRCP_ATTRIBUTES': ' ,a',\n",
       "  'PRCP': '   1252.9'},\n",
       " {'DATE': '1967',\n",
       "  'STATION': 'ASN00084027',\n",
       "  'DP01_ATTRIBUTES': 'a',\n",
       "  'PRCP_ATTRIBUTES': ' ,a',\n",
       "  'PRCP': '    776.2',\n",
       "  'DP10': '        57',\n",
       "  'DP10_ATTRIBUTES': 'a',\n",
       "  'DP01': '       127'},\n",
       " {'DATE': '1968',\n",
       "  'STATION': 'ASN00084027',\n",
       "  'PRCP_ATTRIBUTES': ' ,a',\n",
       "  'PRCP': '    752.8'},\n",
       " {'DATE': '1969',\n",
       "  'STATION': 'ASN00084027',\n",
       "  'DP01_ATTRIBUTES': 'a',\n",
       "  'PRCP_ATTRIBUTES': ' ,a',\n",
       "  'PRCP': '   1032.5',\n",
       "  'DP10': '        76',\n",
       "  'DP10_ATTRIBUTES': 'a',\n",
       "  'DP01': '       136'},\n",
       " {'DATE': '1970',\n",
       "  'STATION': 'ASN00084027',\n",
       "  'PRCP_ATTRIBUTES': ' ,a',\n",
       "  'PRCP': '   1193.2'}]"
      ]
     },
     "execution_count": 22,
     "metadata": {},
     "output_type": "execute_result"
    }
   ],
   "source": [
    "response.json()"
   ]
  },
  {
   "cell_type": "code",
   "execution_count": null,
   "metadata": {},
   "outputs": [],
   "source": []
  }
 ],
 "metadata": {
  "kernelspec": {
   "display_name": "Python 3",
   "language": "python",
   "name": "python3"
  },
  "language_info": {
   "codemirror_mode": {
    "name": "ipython",
    "version": 3
   },
   "file_extension": ".py",
   "mimetype": "text/x-python",
   "name": "python",
   "nbconvert_exporter": "python",
   "pygments_lexer": "ipython3",
   "version": "3.7.6"
  }
 },
 "nbformat": 4,
 "nbformat_minor": 4
}
